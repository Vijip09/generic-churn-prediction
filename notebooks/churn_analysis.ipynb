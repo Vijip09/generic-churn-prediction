{
 "cells": [
  {
   "cell_type": "code",
   "execution_count": null,
   "metadata": {},
   "outputs": [],
   "source": [
    "import pandas as pd\n",
    "import numpy as np\n",
    "import matplotlib.pyplot as plt\n",
    "import seaborn as sns\n",
    "from sklearn.model_selection import train_test_split"
   ]
  },
  {
   "cell_type": "code",
   "execution_count": null,
   "metadata": {},
   "outputs": [],
   "source": [
    "# Load the dataset\n",
    "data = pd.read_csv('telecom_churn.csv')\n",
    "\n",
    "# Quick glimpse of the dataset\n",
    "print(\"Dataset Shape:\", data.shape)\n",
    "print(data.head())\n",
    "\n",
    "# 1. Data Preprocessing & EDA\n",
    "\n",
    "# Checking for missing values\n",
    "print(\"\\nMissing Values:\\n\", data.isnull().sum())\n",
    "\n",
    "# Replacing any missing values (if any) with the median\n",
    "data.fillna(data.median(), inplace=True)\n",
    "\n",
    "# Summary statistics of the dataset\n",
    "print(\"\\nDataset Summary:\\n\", data.describe())\n",
    "\n",
    "# Visualizing the distribution of the target variable 'churn'\n",
    "plt.figure(figsize=(6,4))\n",
    "sns.countplot(x='churn', data=data)\n",
    "plt.title('Distribution of Churn')\n",
    "plt.show()\n",
    "\n",
    "# Checking correlation between features using a heatmap\n",
    "plt.figure(figsize=(12,8))\n",
    "sns.heatmap(data.corr(), annot=True, cmap='coolwarm')\n",
    "plt.title('Feature Correlation Heatmap')\n",
    "plt.show()\n"
   ]
  }
 ],
 "metadata": {
  "kernelspec": {
   "display_name": "Python 3",
   "language": "python",
   "name": "python3"
  },
  "language_info": {
   "codemirror_mode": {
    "name": "ipython",
    "version": 3
   },
   "file_extension": ".py",
   "mimetype": "text/x-python",
   "name": "python",
   "nbconvert_exporter": "python",
   "pygments_lexer": "ipython3",
   "version": "3.12.2"
  }
 },
 "nbformat": 4,
 "nbformat_minor": 2
}
